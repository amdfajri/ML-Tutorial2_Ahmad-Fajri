{
  "nbformat": 4,
  "nbformat_minor": 0,
  "metadata": {
    "colab": {
      "provenance": []
    },
    "kernelspec": {
      "name": "python3",
      "display_name": "Python 3"
    },
    "language_info": {
      "name": "python"
    }
  },
  "cells": [
    {
      "cell_type": "code",
      "execution_count": 1,
      "metadata": {
        "id": "f6Ni7kWthkdh"
      },
      "outputs": [],
      "source": [
        "!pip install -q -U google-generativeai"
      ]
    },
    {
      "cell_type": "code",
      "source": [
        "import google.generativeai as genai\n",
        "from IPython.display import Markdown"
      ],
      "metadata": {
        "id": "j_gHVD_khy0c"
      },
      "execution_count": 2,
      "outputs": []
    },
    {
      "cell_type": "code",
      "source": [
        "from google.colab import userdata\n",
        "GOOGLE_API_KEY=userdata.get('GOOGLE_API_KEY')\n",
        "\n",
        "genai.configure(api_key=GOOGLE_API_KEY)"
      ],
      "metadata": {
        "id": "25YnsKiXh2ah"
      },
      "execution_count": 3,
      "outputs": []
    },
    {
      "cell_type": "code",
      "source": [
        "import PIL.Image\n",
        "\n",
        "sample_file_1 = PIL.Image.open('Car_A.png')\n",
        "sample_file_2 = PIL.Image.open('Car_B.png')\n",
        "sample_file_3 = PIL.Image.open('Car_C.png')\n",
        "sample_file_4 = PIL.Image.open('Motor_A.png')\n",
        "sample_file_5 = PIL.Image.open('Motor_B.png')\n",
        "sample_file_6 = PIL.Image.open('Motor_C.png')\n"
      ],
      "metadata": {
        "id": "m6MQ2eFEiDWz"
      },
      "execution_count": 4,
      "outputs": []
    },
    {
      "cell_type": "code",
      "source": [
        "import google.generativeai as genai\n",
        "\n",
        "# Choose a Gemini model.\n",
        "model = genai.GenerativeModel(model_name=\"gemini-1.5-pro-latest\")\n",
        "\n",
        "# Create a prompt.\n",
        "prompt = \"Read the plate number of the image with the output example {'plat_no': '<license_plate>', 'vehicle': '<vehicle_type>', 'licence_date': '<YYYY-MM-DD>', 'vehicle_type': '<detailed_vehicle_type>', 'color': '<vehicle_color>', 'gate_open': '<timestamp_when_gate_opened>', 'gate_closed': '<timestamp_when_gate_closed>'}\"\n",
        "\n",
        "response = model.generate_content([sample_file_1, sample_file_2, sample_file_3, sample_file_4, sample_file_5, sample_file_6, prompt])\n",
        "\n",
        "Markdown(response.text)"
      ],
      "metadata": {
        "colab": {
          "base_uri": "https://localhost:8080/",
          "height": 1000
        },
        "id": "5cwYnWJhkIZo",
        "outputId": "69986071-7d0a-4163-9497-1ca7eb5590e3"
      },
      "execution_count": 6,
      "outputs": [
        {
          "output_type": "execute_result",
          "data": {
            "text/plain": [
              "<IPython.core.display.Markdown object>"
            ],
            "text/markdown": "Here's the information extracted from the provided images, formatted as requested. Note that I can't determine gate times, detailed vehicle type, or vehicle color with certainty from still images.  I've provided best guesses where possible based on visible features.\n\n**Image 1:**\n\n```json\n{\n  \"plat_no\": \"L 1389 DJ\",\n  \"vehicle\": \"car\",\n  \"licence_date\": \"2020-09\",  // Assuming based on \"09-20\" format\n  \"vehicle_type\": \"Honda Mobilio\", //Best guess based on appearance\n  \"color\": \"gray\", // Best guess\n  \"gate_open\": null,\n  \"gate_closed\": null\n}\n```\n\n**Image 2:**\n\n```json\n{\n  \"plat_no\": \"B 139 RFS\",\n  \"vehicle\": \"car\",\n  \"licence_date\": \"2024-08\", // Assuming based on \"08-24\" format\n  \"vehicle_type\": \"Toyota Alphard\", // Best guess based on appearance\n  \"color\": \"white\",\n  \"gate_open\": null,\n  \"gate_closed\": null\n}\n```\n\n**Image 3:**\n\n```json\n{\n  \"plat_no\": \"DK 1449 CL\",\n  \"vehicle\": \"car\",\n  \"licence_date\": \"2022-01\", // Assuming based on \"01-22\" format\n  \"vehicle_type\": \"Honda HR-V\", // Best guess based on appearance\n  \"color\": \"gray\",\n  \"gate_open\": null,\n  \"gate_closed\": null\n}\n```\n\n**Image 4:**\n\n```json\n{\n  \"plat_no\": \"B 6760 BUG\",\n  \"vehicle\": \"motorcycle\",\n  \"licence_date\": \"2023-10\", // Assuming based on \"10-23\" format\n  \"vehicle_type\": \"Yamaha Lexi\",  // Based on sticker\n  \"color\": \"dark gray/black\",\n  \"gate_open\": null,\n  \"gate_closed\": null\n}\n```\n\n**Image 5:**\n\n```json\n{\n  \"plat_no\": \"Z 5704 DAD\",\n  \"vehicle\": \"motorcycle\",\n  \"licence_date\": \"2023-08\", // Assuming based on \"08-23\" format\n  \"vehicle_type\": \"Yamaha Mio\", // Best guess based on appearance\n  \"color\": \"brown/beige\",\n  \"gate_open\": null,\n  \"gate_closed\": null\n}\n```\n\n\n**Image 6:**\n\n```json\n{\n  \"plat_no\": \"AA 6072 FB\",\n  \"vehicle\": \"motorcycle\",\n  \"licence_date\": \"2025-04\", // Assuming based on \"04/25\" format\n  \"vehicle_type\": \"Vespa\",\n  \"color\": \"light blue/gray\",\n  \"gate_open\": null,\n  \"gate_closed\": null\n}\n```"
          },
          "metadata": {},
          "execution_count": 6
        }
      ]
    }
  ]
}